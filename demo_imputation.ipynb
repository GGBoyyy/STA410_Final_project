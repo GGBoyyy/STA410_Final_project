{
 "cells": [
  {
   "cell_type": "code",
   "execution_count": null,
   "id": "90688539",
   "metadata": {},
   "outputs": [],
   "source": [
    "# Simulate financial time series\n",
    "np.random.seed(410)\n",
    "n_days = 100\n",
    "X_full = np.arange(n_days)\n",
    "y_full = np.cumsum(np.random.randn(n_days)) + 100  # random walk around 100\n",
    "\n",
    "# Introduce missing values\n",
    "missing_indices = np.random.choice(n_days, size=20, replace=False)\n",
    "X_obs = np.delete(X_full, missing_indices)\n",
    "y_obs = np.delete(y_full, missing_indices)\n",
    "\n",
    "# Imputation using Bayesian GP\n",
    "imputer = BayesianGPImputer()\n",
    "imputer.fit(X_obs, y_obs)\n",
    "y_imputed, sigma = imputer.impute(X_full)\n",
    "\n",
    "# Visualize\n",
    "imputer.plot_imputation(X_obs, y_obs, X_full, y_imputed, sigma)\n",
    "\n",
    "# Plot original for reference\n",
    "plt.figure(figsize=(10, 3))\n",
    "plt.plot(X_full, y_full, 'g--', label='Original Full Series')\n",
    "plt.scatter(missing_indices, y_full[missing_indices], color='black', label='True Missing')\n",
    "plt.title('Reference: True Series and Missing Values')\n",
    "plt.legend()\n",
    "plt.tight_layout()\n",
    "plt.show()\n"
   ]
  }
 ],
 "metadata": {
  "kernelspec": {
   "display_name": "Python 3 (ipykernel)",
   "language": "python",
   "name": "python3"
  },
  "language_info": {
   "codemirror_mode": {
    "name": "ipython",
    "version": 3
   },
   "file_extension": ".py",
   "mimetype": "text/x-python",
   "name": "python",
   "nbconvert_exporter": "python",
   "pygments_lexer": "ipython3",
   "version": "3.11.6"
  }
 },
 "nbformat": 4,
 "nbformat_minor": 5
}
